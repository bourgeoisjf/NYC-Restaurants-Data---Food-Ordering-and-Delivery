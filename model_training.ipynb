{
 "cells": [
  {
   "cell_type": "code",
   "execution_count": 1,
   "id": "39064594-7da7-4660-be15-eaa3e18e8228",
   "metadata": {},
   "outputs": [],
   "source": [
    "import pandas as pd\n",
    "from sklearn.model_selection import train_test_split\n",
    "from sklearn.ensemble import RandomForestRegressor\n",
    "from sklearn.metrics import mean_absolute_error"
   ]
  },
  {
   "cell_type": "code",
   "execution_count": 2,
   "id": "1623099a-1f19-4e19-96bb-86e2e092a3e9",
   "metadata": {},
   "outputs": [],
   "source": [
    "df_orders = pd.read_csv('food_order.csv')"
   ]
  },
  {
   "cell_type": "code",
   "execution_count": 3,
   "id": "60e7952a-cc39-4a9b-a291-88d8b319b3f3",
   "metadata": {},
   "outputs": [
    {
     "data": {
      "text/plain": [
       "Index(['order_id', 'customer_id', 'restaurant_name', 'cuisine_type',\n",
       "       'cost_of_the_order', 'day_of_the_week', 'rating',\n",
       "       'food_preparation_time', 'delivery_time'],\n",
       "      dtype='object')"
      ]
     },
     "execution_count": 3,
     "metadata": {},
     "output_type": "execute_result"
    }
   ],
   "source": [
    "df_orders.columns"
   ]
  },
  {
   "cell_type": "code",
   "execution_count": 6,
   "id": "450f7480-a2f1-4ebd-9082-6926aca20ca9",
   "metadata": {},
   "outputs": [],
   "source": [
    "# Making the rating column as numeric\n",
    "df_orders['rating'] = pd.to_numeric(df_orders['rating'], errors='coerce')"
   ]
  },
  {
   "cell_type": "code",
   "execution_count": 7,
   "id": "064662ed-32ac-4794-ba2c-61ce2f928710",
   "metadata": {},
   "outputs": [],
   "source": [
    "# Fill the rating null column values with 0\n",
    "df_orders['rating'] = df_orders['rating'].fillna(0)"
   ]
  },
  {
   "cell_type": "code",
   "execution_count": 8,
   "id": "d7c5cd03-d52a-4bec-9117-3dd07be902b3",
   "metadata": {},
   "outputs": [
    {
     "name": "stdout",
     "output_type": "stream",
     "text": [
      "Erro Absoluto Médio (MAE): 2.13\n"
     ]
    }
   ],
   "source": [
    "# Seleção de variáveis\n",
    "X = pd.get_dummies(df_orders[['restaurant_name', 'cuisine_type', 'cost_of_the_order', 'day_of_the_week', 'delivery_time']], drop_first=True)\n",
    "y = df_orders['rating']\n",
    "\n",
    "# Divisão de dados\n",
    "X_train, X_test, y_train, y_test = train_test_split(X, y, test_size=0.2, random_state=42)\n",
    "\n",
    "# Modelo\n",
    "model = RandomForestRegressor(random_state=42)\n",
    "model.fit(X_train, y_train)\n",
    "\n",
    "# Avaliação\n",
    "y_pred = model.predict(X_test)\n",
    "mae = mean_absolute_error(y_test, y_pred)\n",
    "print(f\"Erro Absoluto Médio (MAE): {mae:.2f}\")"
   ]
  },
  {
   "cell_type": "code",
   "execution_count": 9,
   "id": "9b2ad4fa-791a-4bbc-bf89-dd73f2d6d612",
   "metadata": {},
   "outputs": [
    {
     "name": "stdout",
     "output_type": "stream",
     "text": [
      "Erro Absoluto Médio (MAE): 2.13\n"
     ]
    }
   ],
   "source": [
    "import pandas as pd\n",
    "from sklearn.model_selection import train_test_split\n",
    "from sklearn.ensemble import RandomForestRegressor\n",
    "from sklearn.metrics import mean_absolute_error\n",
    "\n",
    "# Seleção de variáveis: Remover colunas irrelevantes como 'order_id' e 'customer_id'\n",
    "X = pd.get_dummies(df_orders[['restaurant_name', 'cuisine_type', 'cost_of_the_order', \n",
    "                              'food_preparation_time', 'delivery_time', 'day_of_the_week']], drop_first=True)\n",
    "y = df_orders['rating']\n",
    "\n",
    "# Divisão de dados: Separar 80% para treino e 20% para teste\n",
    "X_train, X_test, y_train, y_test = train_test_split(X, y, test_size=0.2, random_state=42)\n",
    "\n",
    "# Modelo RandomForestRegressor: Ajustando o modelo\n",
    "model = RandomForestRegressor(n_estimators=100, random_state=42)\n",
    "model.fit(X_train, y_train)\n",
    "\n",
    "# Avaliação do modelo\n",
    "y_pred = model.predict(X_test)\n",
    "\n",
    "# Cálculo do MAE\n",
    "mae = mean_absolute_error(y_test, y_pred)\n",
    "print(f\"Erro Absoluto Médio (MAE): {mae:.2f}\")"
   ]
  },
  {
   "cell_type": "code",
   "execution_count": 10,
   "id": "b633ce12-b60b-41d7-b13a-08542b4ef5fe",
   "metadata": {},
   "outputs": [
    {
     "name": "stdout",
     "output_type": "stream",
     "text": [
      "cost_of_the_order: 0.2464\n",
      "food_preparation_time: 0.1462\n",
      "delivery_time: 0.1591\n",
      "restaurant_name_12 Chairs: 0.0001\n",
      "restaurant_name_5 Napkin Burger: 0.0021\n",
      "restaurant_name_67 Burger: 0.0000\n",
      "restaurant_name_Alidoro: 0.0010\n",
      "restaurant_name_Amma: 0.0014\n",
      "restaurant_name_Amy Ruth's: 0.0001\n",
      "restaurant_name_Anjappar Chettinad: 0.0000\n",
      "restaurant_name_Asuka Sushi: 0.0008\n",
      "restaurant_name_Aurora: 0.0012\n",
      "restaurant_name_Balade: 0.0000\n",
      "restaurant_name_Balthazar Boulangerie: 0.0018\n",
      "restaurant_name_Barbounia: 0.0015\n",
      "restaurant_name_Bareburger: 0.0078\n",
      "restaurant_name_Benihana: 0.0006\n",
      "restaurant_name_Bhatti Indian Grill: 0.0002\n",
      "restaurant_name_Big Daddy's: 0.0007\n",
      "restaurant_name_Big Wong Restaurant _¤¾Ñ¼: 0.0008\n",
      "restaurant_name_Bistango: 0.0014\n",
      "restaurant_name_Blue Ribbon Brooklyn: 0.0006\n",
      "restaurant_name_Blue Ribbon Fried Chicken: 0.0133\n",
      "restaurant_name_Blue Ribbon Sushi: 0.0177\n",
      "restaurant_name_Blue Ribbon Sushi Bar & Grill: 0.0084\n",
      "restaurant_name_Blue Ribbon Sushi Izakaya: 0.0071\n",
      "restaurant_name_Boqueria: 0.0018\n",
      "restaurant_name_Bubby's : 0.0003\n",
      "restaurant_name_Bukhara Grill: 0.0001\n",
      "restaurant_name_Burger Joint: 0.0038\n",
      "restaurant_name_Byblos Restaurant: 0.0009\n",
      "restaurant_name_Cafe Habana: 0.0030\n",
      "restaurant_name_Cafe Mogador: 0.0024\n",
      "restaurant_name_Cafe de La Esquina: 0.0004\n",
      "restaurant_name_Cafeteria: 0.0030\n",
      "restaurant_name_CafÌ© China: 0.0020\n",
      "restaurant_name_Carmine's: 0.0013\n",
      "restaurant_name_Chipotle Mexican Grill $1.99 Delivery: 0.0041\n",
      "restaurant_name_Cho Dang Gol: 0.0009\n",
      "restaurant_name_Chola Eclectic Indian Cuisine: 0.0001\n",
      "restaurant_name_Chote Nawab: 0.0003\n",
      "restaurant_name_Cipriani Le Specialita: 0.0002\n",
      "restaurant_name_Coppola's East: 0.0002\n",
      "restaurant_name_Crema Restaurante: 0.0000\n",
      "restaurant_name_Delicatessen: 0.0006\n",
      "restaurant_name_DespaÌ±a: 0.0001\n",
      "restaurant_name_Dickson's Farmstand Meats: 0.0003\n",
      "restaurant_name_Dig Inn Seasonal Market: 0.0001\n",
      "restaurant_name_Dirty Bird To Go (archived): 0.0012\n",
      "restaurant_name_Dirty Bird to Go: 0.0022\n",
      "restaurant_name_Don's Bogam BBQ & Wine Bar: 0.0003\n",
      "restaurant_name_Donburi-ya: 0.0024\n",
      "restaurant_name_Dos Caminos: 0.0021\n",
      "restaurant_name_Dos Caminos Soho: 0.0001\n",
      "restaurant_name_DuMont Burger: 0.0004\n",
      "restaurant_name_El Parador Cafe: 0.0000\n",
      "restaurant_name_Empanada Mama (closed): 0.0026\n",
      "restaurant_name_Emporio: 0.0004\n",
      "restaurant_name_Five Guys Burgers and Fries: 0.0064\n",
      "restaurant_name_Five Leaves: 0.0012\n",
      "restaurant_name_Frank Restaurant: 0.0001\n",
      "restaurant_name_Friend of a Farmer: 0.0023\n",
      "restaurant_name_Gaia Italian Cafe: 0.0001\n",
      "restaurant_name_Galli Restaurant: 0.0009\n",
      "restaurant_name_Go! Go! Curry!: 0.0008\n",
      "restaurant_name_Grand Sichuan International: 0.0010\n",
      "restaurant_name_Haandi: 0.0004\n",
      "restaurant_name_Hampton Chutney Co.: 0.0000\n",
      "restaurant_name_Han Dynasty: 0.0094\n",
      "restaurant_name_Hangawi: 0.0006\n",
      "restaurant_name_Haru Gramercy Park: 0.0001\n",
      "restaurant_name_Hatsuhana: 0.0019\n",
      "restaurant_name_Haveli Indian Restaurant: 0.0002\n",
      "restaurant_name_Hibino: 0.0000\n",
      "restaurant_name_Hill Country Fried Chicken: 0.0012\n",
      "restaurant_name_Hiroko's Place: 0.0010\n",
      "restaurant_name_Hot Kitchen: 0.0004\n",
      "restaurant_name_Hummus Place: 0.0005\n",
      "restaurant_name_Hunan Manor: 0.0002\n",
      "restaurant_name_Il Bambino: 0.0001\n",
      "restaurant_name_Izakaya Ten: 0.0007\n",
      "restaurant_name_J. G. Melon: 0.0039\n",
      "restaurant_name_Jack's Wife Freda: 0.0030\n",
      "restaurant_name_Joe's Shanghai _Àü£¾÷´: 0.0008\n",
      "restaurant_name_Junoon: 0.0004\n",
      "restaurant_name_Kambi Ramen House: 0.0000\n",
      "restaurant_name_Kanoyama: 0.0007\n",
      "restaurant_name_Klong: 0.0000\n",
      "restaurant_name_Kori Restaurant and Bar: 0.0003\n",
      "restaurant_name_L'Express: 0.0008\n",
      "restaurant_name_La Follia: 0.0003\n",
      "restaurant_name_Lamarca Pasta: 0.0002\n",
      "restaurant_name_Lantern Thai Kitchen: 0.0011\n",
      "restaurant_name_Le Grainne Cafe: 0.0000\n",
      "restaurant_name_Le Zie 2000 Trattoria: 0.0005\n",
      "restaurant_name_Lucky Strike: 0.0000\n",
      "restaurant_name_Lucky's Famous Burgers: 0.0019\n",
      "restaurant_name_Mamoun's Falafel: 0.0018\n",
      "restaurant_name_Market Table: 0.0006\n",
      "restaurant_name_Melt Shop: 0.0037\n",
      "restaurant_name_Mira Sushi: 0.0002\n",
      "restaurant_name_Mission Cantina: 0.0010\n",
      "restaurant_name_Momoya: 0.0065\n",
      "restaurant_name_Moonstruck on Second: 0.0005\n",
      "restaurant_name_Nha Trang One: 0.0001\n",
      "restaurant_name_Nobu Next Door: 0.0090\n",
      "restaurant_name_Olea: 0.0008\n",
      "restaurant_name_Olive Garden: 0.0014\n",
      "restaurant_name_Osteria Morini: 0.0035\n",
      "restaurant_name_Otto Enoteca Pizzeria: 0.0036\n",
      "restaurant_name_P.J. Clarke's: 0.0039\n",
      "restaurant_name_Parm: 0.0097\n",
      "restaurant_name_Paul & Jimmy's: 0.0002\n",
      "restaurant_name_Pepe Giallo: 0.0003\n",
      "restaurant_name_Pepe Rosso To Go: 0.0030\n",
      "restaurant_name_Philippe Chow: 0.0001\n",
      "restaurant_name_Piccolo Angolo: 0.0001\n",
      "restaurant_name_Pinto Nouveau Thai Bistro: 0.0005\n",
      "restaurant_name_Pongsri Thai: 0.0001\n",
      "restaurant_name_Posto: 0.0000\n",
      "restaurant_name_Prosperity Dumpling: 0.0007\n",
      "restaurant_name_Pylos: 0.0007\n",
      "restaurant_name_Ravagh Persian Grill: 0.0008\n",
      "restaurant_name_RedFarm Broadway: 0.0075\n",
      "restaurant_name_RedFarm Hudson: 0.0090\n",
      "restaurant_name_Rohm Thai: 0.0004\n",
      "restaurant_name_Room Service: 0.0010\n",
      "restaurant_name_Rubirosa: 0.0065\n",
      "restaurant_name_Rye House: 0.0002\n",
      "restaurant_name_S'MAC: 0.0046\n",
      "restaurant_name_Samurai Mama: 0.0008\n",
      "restaurant_name_Sarabeth's: 0.0003\n",
      "restaurant_name_Sarabeth's East: 0.0023\n",
      "restaurant_name_Sarabeth's Restaurant: 0.0020\n",
      "restaurant_name_Sarabeth's West: 0.0002\n",
      "restaurant_name_Saravanaa Bhavan: 0.0010\n",
      "restaurant_name_Schnipper's Quality Kitchen: 0.0000\n",
      "restaurant_name_Serafina Fabulous Pizza: 0.0008\n",
      "restaurant_name_Shake Shack: 0.0206\n",
      "restaurant_name_Socarrat Paella Bar: 0.0001\n",
      "restaurant_name_Song Thai Restaurant & Bar: 0.0001\n",
      "restaurant_name_Spice Thai: 0.0006\n",
      "restaurant_name_Sushi Choshi: 0.0002\n",
      "restaurant_name_Sushi Samba: 0.0025\n",
      "restaurant_name_Sushi of Gari: 0.0048\n",
      "restaurant_name_Sushi of Gari 46: 0.0076\n",
      "restaurant_name_Sushi of Gari Tribeca: 0.0056\n",
      "restaurant_name_TAO: 0.0085\n",
      "restaurant_name_Tamarind TriBeCa: 0.0031\n",
      "restaurant_name_Tarallucci e Vino Restaurant: 0.0003\n",
      "restaurant_name_Taro Sushi: 0.0000\n",
      "restaurant_name_Terakawa Ramen: 0.0002\n",
      "restaurant_name_The Kati Roll Company: 0.0035\n",
      "restaurant_name_The Loop: 0.0007\n",
      "restaurant_name_The MasalaWala: 0.0001\n",
      "restaurant_name_The Meatball Shop: 0.0131\n",
      "restaurant_name_The Odeon: 0.0008\n",
      "restaurant_name_The Smile: 0.0056\n",
      "restaurant_name_Tony's Di Napoli: 0.0019\n",
      "restaurant_name_Tortaria: 0.0005\n",
      "restaurant_name_Tres Carnes: 0.0005\n",
      "restaurant_name_UVA Wine Bar & Restaurant: 0.0007\n",
      "restaurant_name_V-Nam Cafe: 0.0004\n",
      "restaurant_name_Vanessa's Dumpling House: 0.0023\n",
      "restaurant_name_Vanessa's Dumplings: 0.0040\n",
      "restaurant_name_Vezzo Thin Crust Pizza: 0.0015\n",
      "restaurant_name_Wa Jeal: 0.0000\n",
      "restaurant_name_Waverly Diner: 0.0016\n",
      "restaurant_name_Westville Hudson: 0.0054\n",
      "restaurant_name_Wo Hop Restaurant: 0.0002\n",
      "restaurant_name_Woorijip: 0.0000\n",
      "restaurant_name_Xe May Sandwich Shop: 0.0003\n",
      "restaurant_name_Xi'an Famous Foods: 0.0018\n",
      "restaurant_name_Yama 49: 0.0007\n",
      "restaurant_name_Yama Japanese Restaurant: 0.0053\n",
      "restaurant_name_Zero Otto Nove: 0.0001\n",
      "restaurant_name_brgr: 0.0009\n",
      "restaurant_name_da Umberto: 0.0006\n",
      "restaurant_name_ilili Restaurant: 0.0035\n",
      "restaurant_name_indikitch: 0.0007\n",
      "cuisine_type_Chinese: 0.0114\n",
      "cuisine_type_French: 0.0023\n",
      "cuisine_type_Indian: 0.0077\n",
      "cuisine_type_Italian: 0.0154\n",
      "cuisine_type_Japanese: 0.0147\n",
      "cuisine_type_Korean: 0.0020\n",
      "cuisine_type_Mediterranean: 0.0064\n",
      "cuisine_type_Mexican: 0.0078\n",
      "cuisine_type_Middle Eastern: 0.0040\n",
      "cuisine_type_Southern: 0.0017\n",
      "cuisine_type_Spanish: 0.0010\n",
      "cuisine_type_Thai: 0.0018\n",
      "cuisine_type_Vietnamese: 0.0007\n",
      "day_of_the_week_Weekend: 0.0211\n"
     ]
    }
   ],
   "source": [
    "importances = model.feature_importances_\n",
    "for feature, importance in zip(X.columns, importances):\n",
    "    print(f\"{feature}: {importance:.4f}\")"
   ]
  },
  {
   "cell_type": "code",
   "execution_count": 11,
   "id": "b66e59b5-5174-4348-8857-c39d6115e2c1",
   "metadata": {},
   "outputs": [
    {
     "name": "stdout",
     "output_type": "stream",
     "text": [
      "Erro Absoluto Médio (MAE) após novas variáveis: 2.16\n"
     ]
    }
   ],
   "source": [
    "# Criando novas variáveis\n",
    "X['cost_per_delivery_time'] = X['cost_of_the_order'] / X['delivery_time']\n",
    "X['cost_per_preparation_time'] = X['cost_of_the_order'] / X['food_preparation_time']\n",
    "X['total_service_time'] = X['food_preparation_time'] + X['delivery_time']\n",
    "\n",
    "# Divisão de dados (mantendo o mesmo split de antes)\n",
    "X_train, X_test, y_train, y_test = train_test_split(X, y, test_size=0.2, random_state=42)\n",
    "\n",
    "# Modelo\n",
    "model = RandomForestRegressor(random_state=42)\n",
    "model.fit(X_train, y_train)\n",
    "\n",
    "# Avaliação\n",
    "y_pred = model.predict(X_test)\n",
    "mae = mean_absolute_error(y_test, y_pred)\n",
    "print(f\"Erro Absoluto Médio (MAE) após novas variáveis: {mae:.2f}\")"
   ]
  },
  {
   "cell_type": "code",
   "execution_count": 12,
   "id": "5d446c0d-16e8-4765-b09d-a7b71a6d3b6e",
   "metadata": {},
   "outputs": [
    {
     "name": "stdout",
     "output_type": "stream",
     "text": [
      "Melhores parâmetros: {'max_depth': 10, 'min_samples_leaf': 1, 'min_samples_split': 2, 'n_estimators': 300}\n",
      "Erro Absoluto Médio (MAE) após ajuste de parâmetros: 2.12\n"
     ]
    }
   ],
   "source": [
    "from sklearn.model_selection import GridSearchCV\n",
    "\n",
    "# Definindo os parâmetros para o GridSearchCV\n",
    "param_grid = {\n",
    "    'n_estimators': [100, 200, 300],  # Número de árvores\n",
    "    'max_depth': [5, 10, 20],  # Profundidade máxima das árvores\n",
    "    'min_samples_split': [2, 5, 10],  # Número mínimo de amostras para dividir um nó\n",
    "    'min_samples_leaf': [1, 2, 4]  # Número mínimo de amostras em um nó folha\n",
    "}\n",
    "\n",
    "# Instanciando o modelo RandomForestRegressor\n",
    "model = RandomForestRegressor(random_state=42)\n",
    "\n",
    "# Realizando a busca em grade\n",
    "grid_search = GridSearchCV(estimator=model, param_grid=param_grid, cv=5, scoring='neg_mean_absolute_error', n_jobs=-1)\n",
    "\n",
    "# Treinando o modelo com o GridSearchCV\n",
    "grid_search.fit(X_train, y_train)\n",
    "\n",
    "# Melhor combinação de parâmetros\n",
    "print(f\"Melhores parâmetros: {grid_search.best_params_}\")\n",
    "\n",
    "# Avaliação com os melhores parâmetros\n",
    "best_model = grid_search.best_estimator_\n",
    "y_pred = best_model.predict(X_test)\n",
    "mae = mean_absolute_error(y_test, y_pred)\n",
    "print(f\"Erro Absoluto Médio (MAE) após ajuste de parâmetros: {mae:.2f}\")"
   ]
  },
  {
   "cell_type": "code",
   "execution_count": 13,
   "id": "87d17429-fa5c-4a64-92aa-f247bc67495e",
   "metadata": {},
   "outputs": [
    {
     "name": "stdout",
     "output_type": "stream",
     "text": [
      "Erro Absoluto Médio (MAE) com XGBoost: 2.21\n"
     ]
    }
   ],
   "source": [
    "from xgboost import XGBRegressor\n",
    "from sklearn.metrics import mean_absolute_error\n",
    "\n",
    "# Instanciando o modelo XGBoost\n",
    "xgb_model = XGBRegressor(random_state=42)\n",
    "\n",
    "# Treinando o modelo\n",
    "xgb_model.fit(X_train, y_train)\n",
    "\n",
    "# Avaliação\n",
    "y_pred = xgb_model.predict(X_test)\n",
    "mae = mean_absolute_error(y_test, y_pred)\n",
    "print(f\"Erro Absoluto Médio (MAE) com XGBoost: {mae:.2f}\")"
   ]
  },
  {
   "cell_type": "code",
   "execution_count": 14,
   "id": "f2f93c0a-c3ea-4f36-8d19-8e77ee2de643",
   "metadata": {},
   "outputs": [
    {
     "data": {
      "image/png": "[encoded data removed]",
      "text/plain": [
       "<Figure size 640x480 with 1 Axes>"
      ]
     },
     "metadata": {},
     "output_type": "display_data"
    }
   ],
   "source": [
    "# Identificando outliers\n",
    "import seaborn as sns\n",
    "import matplotlib.pyplot as plt\n",
    "\n",
    "sns.boxplot(x=X['cost_of_the_order'])\n",
    "plt.show()"
   ]
  },
  {
   "cell_type": "code",
   "execution_count": 15,
   "id": "535ad557-df37-4bed-8a4c-9fe246ef3232",
   "metadata": {},
   "outputs": [
    {
     "data": {
      "text/plain": [
       "cost_of_the_order                  0\n",
       "food_preparation_time              0\n",
       "delivery_time                      0\n",
       "restaurant_name_12 Chairs          0\n",
       "restaurant_name_5 Napkin Burger    0\n",
       "                                  ..\n",
       "cuisine_type_Vietnamese            0\n",
       "day_of_the_week_Weekend            0\n",
       "cost_per_delivery_time             0\n",
       "cost_per_preparation_time          0\n",
       "total_service_time                 0\n",
       "Length: 197, dtype: int64"
      ]
     },
     "execution_count": 15,
     "metadata": {},
     "output_type": "execute_result"
    }
   ],
   "source": [
    "# Verificando dados faltantes\n",
    "X.isnull().sum()"
   ]
  },
  {
   "cell_type": "code",
   "execution_count": 16,
   "id": "f4f71cc7-3991-41c9-a48a-832873345c0e",
   "metadata": {},
   "outputs": [
    {
     "name": "stdout",
     "output_type": "stream",
     "text": [
      "Erro Absoluto Médio (MAE) com Regressão Linear: 2.16\n"
     ]
    }
   ],
   "source": [
    "from sklearn.linear_model import LinearRegression\n",
    "\n",
    "# Instanciando e treinando um modelo de regressão linear\n",
    "lin_reg = LinearRegression()\n",
    "lin_reg.fit(X_train, y_train)\n",
    "\n",
    "# Avaliando o modelo\n",
    "y_pred = lin_reg.predict(X_test)\n",
    "mae = mean_absolute_error(y_test, y_pred)\n",
    "print(f\"Erro Absoluto Médio (MAE) com Regressão Linear: {mae:.2f}\")"
   ]
  },
  {
   "cell_type": "code",
   "execution_count": 17,
   "id": "3c5d905e-b3dd-4292-a328-22cb5e754a03",
   "metadata": {},
   "outputs": [
    {
     "name": "stdout",
     "output_type": "stream",
     "text": [
      "Erro Absoluto Médio (MAE) após reduzir a profundidade: 2.11\n"
     ]
    }
   ],
   "source": [
    "model = RandomForestRegressor(max_depth=5, random_state=42)  # Profundidade menor\n",
    "model.fit(X_train, y_train)\n",
    "y_pred = model.predict(X_test)\n",
    "mae = mean_absolute_error(y_test, y_pred)\n",
    "print(f\"Erro Absoluto Médio (MAE) após reduzir a profundidade: {mae:.2f}\")"
   ]
  },
  {
   "cell_type": "code",
   "execution_count": 23,
   "id": "6ee7db8c-ae5a-4d08-9445-52c730b06ebc",
   "metadata": {},
   "outputs": [
    {
     "data": {
      "image/png": "[encoded data removed]",
      "text/plain": [
       "<Figure size 640x480 with 1 Axes>"
      ]
     },
     "metadata": {},
     "output_type": "display_data"
    }
   ],
   "source": [
    "residuals = y_test - y_pred\n",
    "sns.histplot(residuals, kde=True)\n",
    "plt.show()"
   ]
  },
  {
   "cell_type": "markdown",
   "id": "44b58002-a4c2-4cab-b795-2f5f0d628a37",
   "metadata": {},
   "source": [
    "# Predictive Modeling Analysis Report\n",
    "\n",
    "## 1. Introduction\n",
    "In this project, the goal was to develop a predictive model to estimate **order cost** for customers based on a provided dataset. The model was built using machine learning techniques, and the following steps were undertaken:\n",
    "- Exploratory Data Analysis (EDA)\n",
    "- Feature Engineering\n",
    "- Modeling with RandomForest and XGBoost\n",
    "- Hyperparameter tuning and performance validation\n",
    "\n",
    "Despite the efforts, the model's performance was below expectations, and the final model did not achieve the desired accuracy.\n",
    "\n",
    "## 2. Data Analysis\n",
    "### 2.1. Data Overview\n",
    "- A description of the variables and how they were treated during the preprocessing phase.\n",
    "- Identification of missing data, outliers, or errors in the dataset.\n",
    "\n",
    "### 2.2. Exploratory Data Analysis Results\n",
    "- Graphical visualizations (boxplots, histograms, correlation between variables) and initial insights into the relationships between variables.\n",
    "- It was observed that **newly engineered variables** did not significantly improve model performance.\n",
    "\n",
    "### 2.3. Key Challenges\n",
    "- The presence of outliers or variables that do not significantly contribute to predictions.\n",
    "- The complexity of relationships between variables, which may require more sophisticated modeling or further feature engineering.\n",
    "\n",
    "## 3. Predictive Modeling\n",
    "### 3.1. Models Used\n",
    "- **RandomForest**: Initially, the model was tuned using default parameters, then optimized using **GridSearchCV** to find the best parameters.\n",
    "- **XGBoost**: An alternative model was also tested to compare performance with RandomForest.\n",
    "\n",
    "### 3.2. Results Obtained\n",
    "- **RandomForest** with optimized parameters: \n",
    "  - Mean Absolute Error (MAE): 2.12\n",
    "  - The performance improved slightly compared to the initial model (MAE of 2.16), but still remains unsatisfactory.\n",
    "- **XGBoost**:\n",
    "  - Mean Absolute Error (MAE): 2.21, slightly worse performance than RandomForest.\n",
    "- The performance of both models was below expectations, indicating that the improvement was not significant.\n",
    "\n",
    "### 3.3. Interpretation of Results\n",
    "- The Mean Absolute Error (MAE) of approximately 2.12-2.21 suggests that the model is still not accurate enough to reliably estimate order costs.\n",
    "- Despite parameter tuning, **reducing model complexity** (e.g., tree depth in RandomForest) did not lead to significant improvements.\n",
    "- **XGBoost** did not outperform RandomForest, which may indicate that the data structure and complexity of the problem are not well-suited to this algorithm.\n",
    "\n",
    "## 4. Error Analysis\n",
    "A residual analysis was performed to better understand the types of errors made by the models. The residuals showed that the models tend to make systematic errors, with some predictions being consistently higher or lower than the actual value, which might indicate underestimation or overestimation of certain costs.\n",
    "\n",
    "## 5. Final Considerations\n",
    "### 5.1. Model Performance\n",
    "The final model’s performance was below expectations, with significant errors in predicting order costs. Some possible reasons for the low performance include:\n",
    "- **Data quality**: Outliers or irrelevant variables may have negatively impacted model performance.\n",
    "- **Problem complexity**: The relationships between variables might be more complex than the chosen models can capture.\n",
    "\n",
    "### 5.2. Future Directions\n",
    "Despite the unsatisfactory results, there are several opportunities to improve the model:\n",
    "1. **Feature Engineering Refinement**: Investigating additional ways to transform and combine the available variables.\n",
    "2. **Outlier Treatment**: Implementing more robust handling of outliers that may be affecting model performance.\n",
    "3. **More Complex Models**: Testing more advanced algorithms, such as neural networks, or employing more sophisticated ensemble techniques.\n",
    "4. **Obtaining More Data**: Expanding the dataset may be crucial for improving model generalization.\n",
    "\n",
    "### 5.3. Conclusion\n",
    "Although the current model did not achieve satisfactory results, the process provided valuable insights into the dataset and the modeling process. A deeper focus on preprocessing and feature engineering, as well as exploring alternative models, may lead to better results in the future.\n"
   ]
  },
  {
   "cell_type": "code",
   "execution_count": null,
   "id": "5395651e-f266-4ea3-a332-84f73f350ba8",
   "metadata": {},
   "outputs": [],
   "source": []
  }
 ],
 "metadata": {
  "kernelspec": {
   "display_name": "Python 3 (ipykernel)",
   "language": "python",
   "name": "python3"
  },
  "language_info": {
   "codemirror_mode": {
    "name": "ipython",
    "version": 3
   },
   "file_extension": ".py",
   "mimetype": "text/x-python",
   "name": "python",
   "nbconvert_exporter": "python",
   "pygments_lexer": "ipython3",
   "version": "3.11.5"
  }
 },
 "nbformat": 4,
 "nbformat_minor": 5
}
